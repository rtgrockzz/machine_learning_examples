{
  "nbformat": 4,
  "nbformat_minor": 0,
  "metadata": {
    "colab": {
      "name": "mf_model_v1(1).ipynb",
      "version": "0.3.2",
      "provenance": [],
      "collapsed_sections": [],
      "include_colab_link": true
    },
    "language_info": {
      "codemirror_mode": {
        "name": "ipython",
        "version": 3
      },
      "file_extension": ".py",
      "mimetype": "text/x-python",
      "name": "python",
      "nbconvert_exporter": "python",
      "pygments_lexer": "ipython3",
      "version": "3.7.3"
    },
    "kernelspec": {
      "name": "python3",
      "display_name": "Python 3"
    },
    "accelerator": "GPU"
  },
  "cells": [
    {
      "cell_type": "markdown",
      "metadata": {
        "id": "view-in-github",
        "colab_type": "text"
      },
      "source": [
        "<a href=\"https://colab.research.google.com/github/rtgrockzz/machine_learning_examples/blob/master/mf_model_v1(1).ipynb\" target=\"_parent\"><img src=\"https://colab.research.google.com/assets/colab-badge.svg\" alt=\"Open In Colab\"/></a>"
      ]
    },
    {
      "cell_type": "code",
      "metadata": {
        "id": "fbZ5hCbZNnXw",
        "colab_type": "code",
        "colab": {}
      },
      "source": [
        "%reload_ext autoreload\n",
        "%autoreload 2\n",
        "%matplotlib inline\n"
      ],
      "execution_count": 0,
      "outputs": []
    },
    {
      "cell_type": "code",
      "metadata": {
        "id": "Fi-nD5Q_NnX9",
        "colab_type": "code",
        "colab": {}
      },
      "source": [
        "from fastai import *\n",
        "from fastai.data_block import *\n",
        "from torch.utils.data import DataLoader, Dataset\n",
        "from torch import *\n",
        "from fastai.tabular import *\n",
        "import pandas as pd\n",
        "import numpy as np\n",
        "from torchsummary import summary\n",
        "#cuda.init()\n",
        "#cuda=torch.device('cuda')"
      ],
      "execution_count": 0,
      "outputs": []
    },
    {
      "cell_type": "code",
      "metadata": {
        "id": "8-GAvuKmOAcY",
        "colab_type": "code",
        "outputId": "d8fba2aa-afe2-4ab1-ca37-e83500cf9f0a",
        "colab": {
          "base_uri": "https://localhost:8080/",
          "height": 34
        }
      },
      "source": [
        "print(torch.cuda.is_available())\n",
        "dev = torch.device('cuda') "
      ],
      "execution_count": 0,
      "outputs": [
        {
          "output_type": "stream",
          "text": [
            "True\n"
          ],
          "name": "stdout"
        }
      ]
    },
    {
      "cell_type": "code",
      "metadata": {
        "id": "FyC7eg6LNnYD",
        "colab_type": "code",
        "colab": {}
      },
      "source": [
        "from torch.utils.data import Dataset, DataLoader\n",
        "\n",
        "class TabularDataset(Dataset):\n",
        "    def __init__(self, data, cat_cols=None, output_col=None):\n",
        "        self.n = data.shape[0]\n",
        "        if output_col:\n",
        "            self.y = data[output_col].astype(np.float32).values\n",
        "        else:\n",
        "            self.y =  np.zeros((self.n, 1))\n",
        "\n",
        "        self.cat_cols = cat_cols if cat_cols else []\n",
        "        self.cont_cols = [col for col in data.columns\n",
        "                          if col not in self.cat_cols + [output_col]]\n",
        "\n",
        "        if self.cont_cols:\n",
        "            print(data[self.cont_cols].shape)\n",
        "            self.cont_X = data[self.cont_cols].astype(np.float32).values.reshape(data[self.cont_cols].shape[0],1, data[self.cont_cols].shape[1])\n",
        "            print(self.cont_X.shape)\n",
        "        else:\n",
        "            self.cont_X = np.zeros((self.n, 1))\n",
        "\n",
        "        if self.cat_cols:\n",
        "            self.cat_X = data[cat_cols].astype(np.float32).values\n",
        "        else:\n",
        "            self.cat_X =  np.zeros((self.n, 1))\n",
        "\n",
        "    def __len__(self):\n",
        "        return self.n\n",
        "\n",
        "    def __getitem__(self, idx):\n",
        "        return self.cont_X[idx], self.y[idx]\n",
        "    \n",
        "    def is_empty(self):\n",
        "        return False\n"
      ],
      "execution_count": 0,
      "outputs": []
    },
    {
      "cell_type": "code",
      "metadata": {
        "id": "TEjoygvxOV0t",
        "colab_type": "code",
        "outputId": "5effa106-0422-459d-e986-9edb818141d0",
        "colab": {
          "base_uri": "https://localhost:8080/",
          "height": 34
        }
      },
      "source": [
        "from google.colab import drive\n",
        "drive.mount('/content/drive')"
      ],
      "execution_count": 0,
      "outputs": [
        {
          "output_type": "stream",
          "text": [
            "Drive already mounted at /content/drive; to attempt to forcibly remount, call drive.mount(\"/content/drive\", force_remount=True).\n"
          ],
          "name": "stdout"
        }
      ]
    },
    {
      "cell_type": "code",
      "metadata": {
        "id": "BLFM-lAEO8Iw",
        "colab_type": "code",
        "outputId": "41893b5e-07e3-44a8-d260-e4d58f6233d2",
        "colab": {
          "base_uri": "https://localhost:8080/",
          "height": 34
        }
      },
      "source": [
        "!ls"
      ],
      "execution_count": 0,
      "outputs": [
        {
          "output_type": "stream",
          "text": [
            "drive  pred_on_train.csv  sample_data\n"
          ],
          "name": "stdout"
        }
      ]
    },
    {
      "cell_type": "code",
      "metadata": {
        "id": "x47cA7a2NnYK",
        "colab_type": "code",
        "colab": {}
      },
      "source": [
        "df=pd.read_csv('drive/My Drive/training_dataset.csv')\n",
        "#df=df.iloc[:,4:-1]*100\n",
        "#df.head()\n"
      ],
      "execution_count": 0,
      "outputs": []
    },
    {
      "cell_type": "code",
      "metadata": {
        "id": "cOTX699aNnYU",
        "colab_type": "code",
        "outputId": "733dc870-d42d-45f4-d302-30993598c55d",
        "colab": {
          "base_uri": "https://localhost:8080/",
          "height": 34
        }
      },
      "source": [
        "df.shape"
      ],
      "execution_count": 0,
      "outputs": [
        {
          "output_type": "execute_result",
          "data": {
            "text/plain": [
              "(3333, 789)"
            ]
          },
          "metadata": {
            "tags": []
          },
          "execution_count": 92
        }
      ]
    },
    {
      "cell_type": "code",
      "metadata": {
        "id": "g01nFOh4NnYb",
        "colab_type": "code",
        "colab": {}
      },
      "source": [
        "output_feature = \"Y\""
      ],
      "execution_count": 0,
      "outputs": []
    },
    {
      "cell_type": "code",
      "metadata": {
        "id": "TMHf2NH2NnYg",
        "colab_type": "code",
        "colab": {}
      },
      "source": [
        "df['mf_id_rem']=df['mf_id']%10"
      ],
      "execution_count": 0,
      "outputs": []
    },
    {
      "cell_type": "code",
      "metadata": {
        "id": "z1NE3iWdNnYk",
        "colab_type": "code",
        "colab": {}
      },
      "source": [
        "df_train=df[~((df['mf_id_rem']==1) | (df['mf_id_rem']==2) | (df['mf_id_rem']==6))]"
      ],
      "execution_count": 0,
      "outputs": []
    },
    {
      "cell_type": "code",
      "metadata": {
        "id": "ibGvMg-hNnYp",
        "colab_type": "code",
        "colab": {}
      },
      "source": [
        "df_valid=df[((df['mf_id_rem']==1) | (df['mf_id_rem']==2) | (df['mf_id_rem']==6))]"
      ],
      "execution_count": 0,
      "outputs": []
    },
    {
      "cell_type": "code",
      "metadata": {
        "id": "4KrokNuANnYw",
        "colab_type": "code",
        "outputId": "f41cb458-09aa-401e-a9c8-e3dd2cbdc491",
        "colab": {
          "base_uri": "https://localhost:8080/",
          "height": 34
        }
      },
      "source": [
        "df_valid.shape"
      ],
      "execution_count": 0,
      "outputs": [
        {
          "output_type": "execute_result",
          "data": {
            "text/plain": [
              "(667, 790)"
            ]
          },
          "metadata": {
            "tags": []
          },
          "execution_count": 97
        }
      ]
    },
    {
      "cell_type": "code",
      "metadata": {
        "id": "z1sPBKHsNnY5",
        "colab_type": "code",
        "colab": {}
      },
      "source": [
        "#df_train"
      ],
      "execution_count": 0,
      "outputs": []
    },
    {
      "cell_type": "code",
      "metadata": {
        "id": "2LfU7EOtNnZA",
        "colab_type": "code",
        "outputId": "211b26c3-42fe-4229-9e9c-00651d41be25",
        "colab": {
          "base_uri": "https://localhost:8080/",
          "height": 34
        }
      },
      "source": [
        "df_train.shape"
      ],
      "execution_count": 0,
      "outputs": [
        {
          "output_type": "execute_result",
          "data": {
            "text/plain": [
              "(2666, 790)"
            ]
          },
          "metadata": {
            "tags": []
          },
          "execution_count": 99
        }
      ]
    },
    {
      "cell_type": "code",
      "metadata": {
        "id": "R-miCYiyNnZG",
        "colab_type": "code",
        "colab": {}
      },
      "source": [
        "df_train=df_train.drop(['mf_id_rem'], axis=1)\n",
        "df_valid=df_valid.drop(['mf_id_rem'], axis=1)\n",
        "df=df.drop(['mf_id_rem'], axis=1)"
      ],
      "execution_count": 0,
      "outputs": []
    },
    {
      "cell_type": "code",
      "metadata": {
        "id": "my4pAGbUNnZK",
        "colab_type": "code",
        "outputId": "2f969164-2990-402c-fbf9-f6b8005fd64e",
        "colab": {
          "base_uri": "https://localhost:8080/",
          "height": 34
        }
      },
      "source": [
        "df_train.shape, df_valid.shape"
      ],
      "execution_count": 0,
      "outputs": [
        {
          "output_type": "execute_result",
          "data": {
            "text/plain": [
              "((2666, 789), (667, 789))"
            ]
          },
          "metadata": {
            "tags": []
          },
          "execution_count": 101
        }
      ]
    },
    {
      "cell_type": "code",
      "metadata": {
        "id": "WfVBDsR9NnZR",
        "colab_type": "code",
        "colab": {}
      },
      "source": [
        "y_train=df_train['Y']*100"
      ],
      "execution_count": 0,
      "outputs": []
    },
    {
      "cell_type": "code",
      "metadata": {
        "id": "nciisvQWNnZV",
        "colab_type": "code",
        "colab": {}
      },
      "source": [
        "df_train_copy_1=df_train.iloc[:,:-1]\n",
        "\n",
        "df_train=df_train.iloc[:,4:-1]*100\n",
        "#df_train"
      ],
      "execution_count": 0,
      "outputs": []
    },
    {
      "cell_type": "code",
      "metadata": {
        "id": "_wtgVTIUNnZc",
        "colab_type": "code",
        "colab": {}
      },
      "source": [
        "#y_train.describe()"
      ],
      "execution_count": 0,
      "outputs": []
    },
    {
      "cell_type": "code",
      "metadata": {
        "id": "INuQlimwNnZi",
        "colab_type": "code",
        "colab": {}
      },
      "source": [
        "y_valid=df_valid['Y']*100"
      ],
      "execution_count": 0,
      "outputs": []
    },
    {
      "cell_type": "code",
      "metadata": {
        "id": "0DHQrcP5NnZn",
        "colab_type": "code",
        "colab": {}
      },
      "source": [
        "#y_valid.describe()"
      ],
      "execution_count": 0,
      "outputs": []
    },
    {
      "cell_type": "code",
      "metadata": {
        "id": "a9wi59SCNnZt",
        "colab_type": "code",
        "colab": {}
      },
      "source": [
        "df_valid_copy_1=df_valid.iloc[:,:-1]\n",
        "\n",
        "df_valid=df_valid.iloc[:,4:-1]*100\n"
      ],
      "execution_count": 0,
      "outputs": []
    },
    {
      "cell_type": "code",
      "metadata": {
        "id": "LleSyvvwNnZx",
        "colab_type": "code",
        "colab": {}
      },
      "source": [
        "#df_valid_copy_1"
      ],
      "execution_count": 0,
      "outputs": []
    },
    {
      "cell_type": "code",
      "metadata": {
        "id": "IWspG1AiNnZ7",
        "colab_type": "code",
        "colab": {}
      },
      "source": [
        "#df_valid"
      ],
      "execution_count": 0,
      "outputs": []
    },
    {
      "cell_type": "code",
      "metadata": {
        "id": "lR0Oa-3CNnaC",
        "colab_type": "code",
        "colab": {}
      },
      "source": [
        "df_valid_copy= pd.merge(df_valid_copy_1,df_valid)"
      ],
      "execution_count": 0,
      "outputs": []
    },
    {
      "cell_type": "code",
      "metadata": {
        "id": "NagSqGr2NnaF",
        "colab_type": "code",
        "outputId": "d25c3461-9a12-410c-e49c-850323f065f7",
        "colab": {
          "base_uri": "https://localhost:8080/",
          "height": 34
        }
      },
      "source": [
        "df_train.shape,df_valid.shape"
      ],
      "execution_count": 0,
      "outputs": [
        {
          "output_type": "execute_result",
          "data": {
            "text/plain": [
              "((2666, 784), (667, 784))"
            ]
          },
          "metadata": {
            "tags": []
          },
          "execution_count": 111
        }
      ]
    },
    {
      "cell_type": "code",
      "metadata": {
        "id": "T8QTSi56NnaK",
        "colab_type": "code",
        "colab": {}
      },
      "source": [
        "#df_valid_copy_1"
      ],
      "execution_count": 0,
      "outputs": []
    },
    {
      "cell_type": "code",
      "metadata": {
        "scrolled": true,
        "id": "4svT_-gNNnaO",
        "colab_type": "code",
        "outputId": "19aee905-81dd-44b9-df23-9c3a93e2a326",
        "colab": {
          "base_uri": "https://localhost:8080/",
          "height": 34
        }
      },
      "source": [
        "2866/3333"
      ],
      "execution_count": 0,
      "outputs": [
        {
          "output_type": "execute_result",
          "data": {
            "text/plain": [
              "0.8598859885988599"
            ]
          },
          "metadata": {
            "tags": []
          },
          "execution_count": 113
        }
      ]
    },
    {
      "cell_type": "code",
      "metadata": {
        "id": "5gJGIA2QNnaU",
        "colab_type": "code",
        "colab": {}
      },
      "source": [
        "#df_train.sum()"
      ],
      "execution_count": 0,
      "outputs": []
    },
    {
      "cell_type": "code",
      "metadata": {
        "id": "iz2D0d83NnaY",
        "colab_type": "code",
        "colab": {}
      },
      "source": [
        ""
      ],
      "execution_count": 0,
      "outputs": []
    },
    {
      "cell_type": "code",
      "metadata": {
        "id": "5rL4aKHCNnab",
        "colab_type": "code",
        "outputId": "a7726a80-aa5f-4674-f606-04c54e4de54f",
        "colab": {
          "base_uri": "https://localhost:8080/",
          "height": 52
        }
      },
      "source": [
        "print(df_train.shape),\n",
        "df_train = df_train.astype(np.float32).values.reshape(df_train.shape[0],1, df_train.shape[1])\n",
        "df_train=  torch.Tensor(df_train)\n",
        "df_valid = df_valid.astype(np.float32).values.reshape(df_valid.shape[0],1, df_valid.shape[1])\n",
        "df_valid=  torch.Tensor(df_valid)\n",
        "\n",
        "y_train=y_train.astype(np.float32).values\n",
        "y_valid=y_valid.astype(np.float32).values\n",
        "\n",
        "y_train=  torch.Tensor(y_train)\n",
        "y_valid= torch.Tensor(y_valid)\n",
        "\n",
        "\n",
        "df_train.shape,df_valid.shape"
      ],
      "execution_count": 0,
      "outputs": [
        {
          "output_type": "stream",
          "text": [
            "(2666, 784)\n"
          ],
          "name": "stdout"
        },
        {
          "output_type": "execute_result",
          "data": {
            "text/plain": [
              "(torch.Size([2666, 1, 784]), torch.Size([667, 1, 784]))"
            ]
          },
          "metadata": {
            "tags": []
          },
          "execution_count": 115
        }
      ]
    },
    {
      "cell_type": "code",
      "metadata": {
        "id": "5Z1USB0zNnaf",
        "colab_type": "code",
        "outputId": "0fdfcef9-b878-42c6-eb17-56378f6d33ec",
        "colab": {
          "base_uri": "https://localhost:8080/",
          "height": 34
        }
      },
      "source": [
        "df_train.shape,df_valid.shape\n",
        "#df_train.cuda()\n",
        "#df_valid.cuda()\n",
        "#y_train.cuda()\n",
        "#y_valid.cuda()"
      ],
      "execution_count": 0,
      "outputs": [
        {
          "output_type": "execute_result",
          "data": {
            "text/plain": [
              "(torch.Size([2666, 1, 784]), torch.Size([667, 1, 784]))"
            ]
          },
          "metadata": {
            "tags": []
          },
          "execution_count": 116
        }
      ]
    },
    {
      "cell_type": "code",
      "metadata": {
        "id": "8xnwPdZjNnai",
        "colab_type": "code",
        "colab": {}
      },
      "source": [
        "#train_ds = TabularDataset(data=df_train,output_col=output_feature)\n",
        "#valid_ds = TabularDataset(data=df_valid,output_col=output_feature)\n",
        "\n",
        "#datas=TabularDataset(data=df,                              output_col=output_feature)\n",
        "#datas"
      ],
      "execution_count": 0,
      "outputs": []
    },
    {
      "cell_type": "code",
      "metadata": {
        "id": "DKSc8y1wNnal",
        "colab_type": "code",
        "colab": {}
      },
      "source": [
        "#torch.device=cuda\n",
        "train_ds=TensorDataset(df_train,y_train)\n",
        "#print(train_ds.device)\n",
        "valid_ds=TensorDataset(df_valid,y_valid)\n",
        "#train_ds.cuda()\n",
        "#train_ds=train_ds.to('cuda')\n",
        "#print(train_ds.device)"
      ],
      "execution_count": 0,
      "outputs": []
    },
    {
      "cell_type": "code",
      "metadata": {
        "id": "lWQOR7LTP_eo",
        "colab_type": "code",
        "colab": {}
      },
      "source": [
        "TensorDataset??\n"
      ],
      "execution_count": 0,
      "outputs": []
    },
    {
      "cell_type": "code",
      "metadata": {
        "id": "yW4RLUJ2Nnap",
        "colab_type": "code",
        "colab": {}
      },
      "source": [
        "#data = DataBunch.create(train_ds, valid_ds, bs=64, num_workers=1)"
      ],
      "execution_count": 0,
      "outputs": []
    },
    {
      "cell_type": "code",
      "metadata": {
        "id": "z_ZC3R_xNnar",
        "colab_type": "code",
        "colab": {}
      },
      "source": [
        "# x,y=data.one_batch()\n",
        "# x[torch.isnan(x)] = 0\n",
        "# x.shape,y.shape"
      ],
      "execution_count": 0,
      "outputs": []
    },
    {
      "cell_type": "code",
      "metadata": {
        "id": "domHa7xlNnat",
        "colab_type": "code",
        "colab": {}
      },
      "source": [
        "\n",
        "\n",
        "def preprocess(x):\n",
        "    size=x.shape[0]\n",
        "    x=x.view(size)\n",
        "    x[torch.isnan(x)] = 0\n",
        "    return x\n"
      ],
      "execution_count": 0,
      "outputs": []
    },
    {
      "cell_type": "code",
      "metadata": {
        "id": "XY-T7b8vNnaw",
        "colab_type": "code",
        "outputId": "da1b2849-c722-422c-9ab3-9b78b198e910",
        "colab": {
          "base_uri": "https://localhost:8080/",
          "height": 451
        }
      },
      "source": [
        "class Lambda(nn.Module):\n",
        "    def __init__(self, func):\n",
        "        super().__init__()\n",
        "        self.func = func\n",
        "\n",
        "    def forward(self, x):\n",
        "        return self.func(x)\n",
        "\n",
        "models=nn.Sequential(\n",
        "    nn.BatchNorm1d(1),\n",
        "    nn.Conv1d(1,256,kernel_size=5,bias=True),\n",
        "    nn.BatchNorm1d(256),\n",
        "    nn.ReLU(),\n",
        "    nn.MaxPool1d(kernel_size=5),\n",
        "    nn.Conv1d(256,512,kernel_size=5,bias=True),\n",
        "    nn.BatchNorm1d(512),\n",
        "    nn.ReLU(),\n",
        "    nn.MaxPool1d(kernel_size=5),\n",
        "    nn.Conv1d(512,1024,kernel_size=5,bias=True),\n",
        "    nn.BatchNorm1d(1024),\n",
        "    nn.ReLU(),\n",
        "    #nn.MaxPool1d(kernel_size=5),\n",
        "    #nn.Conv1d(256,512,kernel_size=5,bias=True),\n",
        "    #nn.BatchNorm1d(512),\n",
        "    #nn.ReLU(),\n",
        "    #nn.MaxPool1d(kernel_size=5),\n",
        "    #nn.Conv1d(512,1024,kernel_size=5,bias=True),\n",
        "#     nn.BatchNorm1d(1024),\n",
        "#     nn.ReLU(),\n",
        "     nn.AdaptiveMaxPool1d(1),#concat avg\n",
        "     Lambda(lambda x: x.view(x.size(0),-1)),\n",
        "     nn.Linear(1024,512),\n",
        "     nn.BatchNorm1d(512),\n",
        "     nn.ReLU(),\n",
        "     nn.Dropout(),\n",
        "     nn.Linear(512,256),\n",
        "     nn.ReLU(),\n",
        "     nn.BatchNorm1d(256),\n",
        "     nn.Dropout(),\n",
        "     nn.Linear(256,1)\n",
        "    \n",
        "    \n",
        ")\n",
        "\n",
        "#learn = Learner(data, models, loss_func =  torch.nn.functional.l1_loss ,metrics=[torch.nn.functional.mse_loss])"
      ],
      "execution_count": 0,
      "outputs": [
        {
          "output_type": "execute_result",
          "data": {
            "text/plain": [
              "Sequential(\n",
              "  (0): BatchNorm1d(1, eps=1e-05, momentum=0.1, affine=True, track_running_stats=True)\n",
              "  (1): Conv1d(1, 256, kernel_size=(5,), stride=(1,))\n",
              "  (2): BatchNorm1d(256, eps=1e-05, momentum=0.1, affine=True, track_running_stats=True)\n",
              "  (3): ReLU()\n",
              "  (4): MaxPool1d(kernel_size=5, stride=5, padding=0, dilation=1, ceil_mode=False)\n",
              "  (5): Conv1d(256, 512, kernel_size=(5,), stride=(1,))\n",
              "  (6): BatchNorm1d(512, eps=1e-05, momentum=0.1, affine=True, track_running_stats=True)\n",
              "  (7): ReLU()\n",
              "  (8): MaxPool1d(kernel_size=5, stride=5, padding=0, dilation=1, ceil_mode=False)\n",
              "  (9): Conv1d(512, 1024, kernel_size=(5,), stride=(1,))\n",
              "  (10): BatchNorm1d(1024, eps=1e-05, momentum=0.1, affine=True, track_running_stats=True)\n",
              "  (11): ReLU()\n",
              "  (12): AdaptiveMaxPool1d(output_size=1)\n",
              "  (13): Lambda()\n",
              "  (14): Linear(in_features=1024, out_features=512, bias=True)\n",
              "  (15): BatchNorm1d(512, eps=1e-05, momentum=0.1, affine=True, track_running_stats=True)\n",
              "  (16): ReLU()\n",
              "  (17): Dropout(p=0.5)\n",
              "  (18): Linear(in_features=512, out_features=256, bias=True)\n",
              "  (19): ReLU()\n",
              "  (20): BatchNorm1d(256, eps=1e-05, momentum=0.1, affine=True, track_running_stats=True)\n",
              "  (21): Dropout(p=0.5)\n",
              "  (22): Linear(in_features=256, out_features=1, bias=True)\n",
              ")"
            ]
          },
          "metadata": {
            "tags": []
          },
          "execution_count": 130
        }
      ]
    },
    {
      "cell_type": "code",
      "metadata": {
        "id": "MeAbyiyQdswl",
        "colab_type": "code",
        "colab": {}
      },
      "source": [
        "models2=nn.Sequential(\n",
        "   nn.BatchNorm1d(1),\n",
        "   nn.Conv1d(1,256,kernel_size=5,bias=True),\n",
        "   nn.BatchNorm1d(256),\n",
        "   nn.ReLU(),\n",
        "   nn.MaxPool1d(kernel_size=5),\n",
        "   # nn.Dropout(),\n",
        "   nn.Conv1d(256,512,kernel_size=5,bias=True),\n",
        "   nn.BatchNorm1d(512),\n",
        "   nn.ReLU(),\n",
        "   nn.MaxPool1d(kernel_size=5),\n",
        "    #nn.Dropout(),\n",
        "   nn.Conv1d(512,1024,kernel_size=5,bias=True),\n",
        "   nn.BatchNorm1d(1024),\n",
        "   nn.ReLU(),\n",
        "    #nn.Dropout(),\n",
        "   nn.AdaptiveMaxPool1d(1),#concat avg\n",
        "    Lambda(lambda x: x.view(x.size(0),-1)),\n",
        "    nn.Linear(1024,512),\n",
        "    nn.BatchNorm1d(512),\n",
        "    nn.ReLU(),\n",
        "    nn.Dropout(),\n",
        "    nn.Linear(512,256),\n",
        "    nn.ReLU(),\n",
        "    nn.BatchNorm1d(256),\n",
        "    nn.Dropout(),\n",
        "    #nn.Linear(256,1),\n",
        "    \n",
        "    nn.Linear(256,128),\n",
        "    nn.ReLU(),\n",
        "    nn.BatchNorm1d(128),\n",
        "    nn.Linear(128,64),\n",
        "    nn.ReLU(),\n",
        "    nn.BatchNorm1d(64),\n",
        "    nn.Linear(64,1))\n"
      ],
      "execution_count": 0,
      "outputs": []
    },
    {
      "cell_type": "code",
      "metadata": {
        "id": "RrkGVlvANna2",
        "colab_type": "code",
        "colab": {}
      },
      "source": [
        ""
      ],
      "execution_count": 0,
      "outputs": []
    },
    {
      "cell_type": "code",
      "metadata": {
        "id": "Lxv-WC4ZNna5",
        "colab_type": "code",
        "colab": {}
      },
      "source": [
        "#for p in models.parameters():\n",
        "#    p.data.fill_(0)\n",
        "\n",
        "loss_func = torch.nn.MSELoss()\n",
        "optimizer = torch.optim.Adam(models.parameters(), lr=1e-5)\n",
        "bs=64\n",
        "def get_data(train_ds, valid_ds, bs):\n",
        "    return (\n",
        "        DataLoader(train_ds, batch_size=bs, shuffle=True),\n",
        "        DataLoader(valid_ds, batch_size=bs ),\n",
        "    )\n",
        "def loss_batch(models, loss_func, xb, yb, opt=None):\n",
        "    xb.to(dev)\n",
        "    yb.to(dev)\n",
        "    y_pred=models(xb)\n",
        "    y_pred=preprocess(y_pred)\n",
        "    loss = loss_func(y_pred, yb)\n",
        "   # print('pred: ',y_pred,'y :',yb,'loss',loss)\n",
        "    if opt is not None:\n",
        "        opt.zero_grad()\n",
        "        loss.backward()\n",
        "        opt.step() \n",
        "    return loss.item(), len(xb)\n",
        "  \n",
        "def fit(epochs, models, loss_func, opt, train_dl, valid_dl):\n",
        "    for epoch in range(epochs):\n",
        "\n",
        "\n",
        "        models.cuda()\n",
        "        models=models.train()\n",
        "        for xb, yb in train_dl:\n",
        "          x=xb.to(dev)\n",
        "          y=yb.to(dev)\n",
        "          bl,s=loss_batch(models.to(dev), loss_func, x, y, opt)\n",
        "            \n",
        "\n",
        "        models=models.eval()\n",
        "        with torch.no_grad():\n",
        "            losses=[]\n",
        "            nums=[]\n",
        "            for xb, yb in valid_dl:\n",
        "              x=xb.to(dev)\n",
        "              y=yb.to(dev)\n",
        "              losses_1, nums_1 = loss_batch(models, loss_func, x, y)\n",
        "              losses.append(losses_1)\n",
        "              nums.append(nums_1)\n",
        "              \n",
        "\n",
        "            #losses, nums = zip(*[loss_batch(models, loss_func, xb, yb) for xb, yb in valid_dl])\n",
        "            \n",
        "        val_loss = np.sum(np.multiply(losses, nums)) / np.sum(nums)\n",
        "\n",
        "        print('loss:',epoch,bl,val_loss )\n"
      ],
      "execution_count": 0,
      "outputs": []
    },
    {
      "cell_type": "code",
      "metadata": {
        "id": "iNelYTkGNna8",
        "colab_type": "code",
        "outputId": "3c8cb481-c549-4f79-f696-0e2b6b907cc4",
        "colab": {
          "base_uri": "https://localhost:8080/",
          "height": 416
        }
      },
      "source": [
        "train_dl,valid_dl=get_data(train_ds, valid_ds, bs)\n",
        "models2.to(dev)\n",
        "optimizer = torch.optim.Adam(models2.parameters(), lr=1e-3)\n",
        "fit(5, models2, loss_func, optimizer, train_dl, valid_dl)\n",
        "\n",
        "optimizer = torch.optim.Adam(models2.parameters(), lr=1e-4)\n",
        "fit(8, models2, loss_func, optimizer, train_dl, valid_dl)\n",
        "\n",
        "optimizer = torch.optim.Adam(models2.parameters(), lr=1e-5)\n",
        "fit(10, models2, loss_func, optimizer, train_dl, valid_dl)\n",
        "\n"
      ],
      "execution_count": 0,
      "outputs": [
        {
          "output_type": "stream",
          "text": [
            "loss: 0 37.978851318359375 22.97395526594308\n",
            "loss: 1 27.113468170166016 16.90135197446443\n",
            "loss: 2 49.560977935791016 18.254406756010727\n",
            "loss: 3 12.46082592010498 16.00760947460535\n",
            "loss: 4 7.5730671882629395 22.857353370586434\n",
            "loss: 0 6.652295112609863 12.081309724604708\n",
            "loss: 1 6.955573558807373 9.447634260872494\n",
            "loss: 2 6.950926303863525 8.128837193684957\n",
            "loss: 3 4.241746425628662 7.737910360768102\n",
            "loss: 4 6.738016605377197 8.562889157742754\n",
            "loss: 5 3.506566286087036 7.387579307384577\n",
            "loss: 6 4.123189449310303 8.31851224884994\n",
            "loss: 7 7.695555686950684 8.867319260043898\n",
            "loss: 0 3.033552885055542 7.90200185704267\n",
            "loss: 1 3.7090861797332764 8.21659913556329\n",
            "loss: 2 9.39881420135498 8.276899925414947\n",
            "loss: 3 4.42564582824707 8.052547030184401\n",
            "loss: 4 5.567952632904053 8.483943187135985\n",
            "loss: 5 3.3391833305358887 7.811338496172446\n",
            "loss: 6 7.397759437561035 7.51161619498097\n",
            "loss: 7 5.202752113342285 7.470788941390511\n",
            "loss: 8 5.13186502456665 7.535996678708376\n",
            "loss: 9 5.239177703857422 7.646337015875455\n"
          ],
          "name": "stdout"
        }
      ]
    },
    {
      "cell_type": "code",
      "metadata": {
        "id": "6s7H2J0AjL6G",
        "colab_type": "code",
        "colab": {}
      },
      "source": [
        ""
      ],
      "execution_count": 0,
      "outputs": []
    },
    {
      "cell_type": "code",
      "metadata": {
        "id": "vDIY3CExNnbH",
        "colab_type": "code",
        "outputId": "f4af8c3c-445b-4654-8c14-d9392460a75b",
        "colab": {
          "base_uri": "https://localhost:8080/",
          "height": 237
        }
      },
      "source": [
        "y_pred=models(df_valid)\n",
        "print(df_valid_copy_1.shape)\n",
        "df_valid_copy_1['y_real']=y_valid\n",
        "df_valid_copy_1['y_pred']=y_pred.view(y_pred.shape[0])\n",
        "#res_df['y_pred']=y_pred.view(y_pred.shape[0])\n"
      ],
      "execution_count": 0,
      "outputs": [
        {
          "output_type": "error",
          "ename": "NameError",
          "evalue": "ignored",
          "traceback": [
            "\u001b[0;31m---------------------------------------------------------------------------\u001b[0m",
            "\u001b[0;31mNameError\u001b[0m                                 Traceback (most recent call last)",
            "\u001b[0;32m<ipython-input-1-fc9b60c4df74>\u001b[0m in \u001b[0;36m<module>\u001b[0;34m()\u001b[0m\n\u001b[0;32m----> 1\u001b[0;31m \u001b[0my_pred\u001b[0m\u001b[0;34m=\u001b[0m\u001b[0mmodels\u001b[0m\u001b[0;34m(\u001b[0m\u001b[0mdf_valid\u001b[0m\u001b[0;34m)\u001b[0m\u001b[0;34m\u001b[0m\u001b[0;34m\u001b[0m\u001b[0m\n\u001b[0m\u001b[1;32m      2\u001b[0m \u001b[0mprint\u001b[0m\u001b[0;34m(\u001b[0m\u001b[0mdf_valid_copy_1\u001b[0m\u001b[0;34m.\u001b[0m\u001b[0mshape\u001b[0m\u001b[0;34m)\u001b[0m\u001b[0;34m\u001b[0m\u001b[0;34m\u001b[0m\u001b[0m\n\u001b[1;32m      3\u001b[0m \u001b[0mdf_valid_copy_1\u001b[0m\u001b[0;34m[\u001b[0m\u001b[0;34m'y_real'\u001b[0m\u001b[0;34m]\u001b[0m\u001b[0;34m=\u001b[0m\u001b[0my_valid\u001b[0m\u001b[0;34m\u001b[0m\u001b[0;34m\u001b[0m\u001b[0m\n\u001b[1;32m      4\u001b[0m \u001b[0mdf_valid_copy_1\u001b[0m\u001b[0;34m[\u001b[0m\u001b[0;34m'y_pred'\u001b[0m\u001b[0;34m]\u001b[0m\u001b[0;34m=\u001b[0m\u001b[0my_pred\u001b[0m\u001b[0;34m.\u001b[0m\u001b[0mview\u001b[0m\u001b[0;34m(\u001b[0m\u001b[0my_pred\u001b[0m\u001b[0;34m.\u001b[0m\u001b[0mshape\u001b[0m\u001b[0;34m[\u001b[0m\u001b[0;36m0\u001b[0m\u001b[0;34m]\u001b[0m\u001b[0;34m)\u001b[0m\u001b[0;34m\u001b[0m\u001b[0;34m\u001b[0m\u001b[0m\n\u001b[1;32m      5\u001b[0m \u001b[0;31m#res_df['y_pred']=y_pred.view(y_pred.shape[0])\u001b[0m\u001b[0;34m\u001b[0m\u001b[0;34m\u001b[0m\u001b[0;34m\u001b[0m\u001b[0m\n",
            "\u001b[0;31mNameError\u001b[0m: name 'models' is not defined"
          ]
        }
      ]
    },
    {
      "cell_type": "code",
      "metadata": {
        "id": "jmcwta5nNnbN",
        "colab_type": "code",
        "colab": {}
      },
      "source": [
        "y_pred=models(df_valid)"
      ],
      "execution_count": 0,
      "outputs": []
    },
    {
      "cell_type": "code",
      "metadata": {
        "id": "3qI-P1skNnbQ",
        "colab_type": "code",
        "colab": {}
      },
      "source": [
        "df_valid_copy_1.to_csv('pred_on_valid.csv')"
      ],
      "execution_count": 0,
      "outputs": []
    },
    {
      "cell_type": "code",
      "metadata": {
        "id": "35bXCPuuNnbU",
        "colab_type": "code",
        "outputId": "8ba24f0c-8ee1-41a7-9502-40063fd2d1ef",
        "colab": {
          "base_uri": "https://localhost:8080/",
          "height": 237
        }
      },
      "source": [
        "train_y_pred=models(df_train)\n",
        "print(train_y_pred.shape)\n",
        "df_train_copy_1['y_real']=y_train\n",
        "df_train_copy_1['y_pred']=train_y_pred.view(train_y_pred.shape[0])\n",
        "#res_df['y_pred']=y_pred.view(y_pred.shape[0])\n"
      ],
      "execution_count": 0,
      "outputs": [
        {
          "output_type": "error",
          "ename": "NameError",
          "evalue": "ignored",
          "traceback": [
            "\u001b[0;31m---------------------------------------------------------------------------\u001b[0m",
            "\u001b[0;31mNameError\u001b[0m                                 Traceback (most recent call last)",
            "\u001b[0;32m<ipython-input-43-c4f155f27754>\u001b[0m in \u001b[0;36m<module>\u001b[0;34m()\u001b[0m\n\u001b[0;32m----> 1\u001b[0;31m \u001b[0mtrain_y_pred\u001b[0m\u001b[0;34m=\u001b[0m\u001b[0mmodels\u001b[0m\u001b[0;34m(\u001b[0m\u001b[0mdf_train\u001b[0m\u001b[0;34m)\u001b[0m\u001b[0;34m\u001b[0m\u001b[0;34m\u001b[0m\u001b[0m\n\u001b[0m\u001b[1;32m      2\u001b[0m \u001b[0mprint\u001b[0m\u001b[0;34m(\u001b[0m\u001b[0mtrain_y_pred\u001b[0m\u001b[0;34m.\u001b[0m\u001b[0mshape\u001b[0m\u001b[0;34m)\u001b[0m\u001b[0;34m\u001b[0m\u001b[0;34m\u001b[0m\u001b[0m\n\u001b[1;32m      3\u001b[0m \u001b[0mdf_train_copy_1\u001b[0m\u001b[0;34m[\u001b[0m\u001b[0;34m'y_real'\u001b[0m\u001b[0;34m]\u001b[0m\u001b[0;34m=\u001b[0m\u001b[0my_train\u001b[0m\u001b[0;34m\u001b[0m\u001b[0;34m\u001b[0m\u001b[0m\n\u001b[1;32m      4\u001b[0m \u001b[0mdf_train_copy_1\u001b[0m\u001b[0;34m[\u001b[0m\u001b[0;34m'y_pred'\u001b[0m\u001b[0;34m]\u001b[0m\u001b[0;34m=\u001b[0m\u001b[0mtrain_y_pred\u001b[0m\u001b[0;34m.\u001b[0m\u001b[0mview\u001b[0m\u001b[0;34m(\u001b[0m\u001b[0mtrain_y_pred\u001b[0m\u001b[0;34m.\u001b[0m\u001b[0mshape\u001b[0m\u001b[0;34m[\u001b[0m\u001b[0;36m0\u001b[0m\u001b[0;34m]\u001b[0m\u001b[0;34m)\u001b[0m\u001b[0;34m\u001b[0m\u001b[0;34m\u001b[0m\u001b[0m\n\u001b[1;32m      5\u001b[0m \u001b[0;31m#res_df['y_pred']=y_pred.view(y_pred.shape[0])\u001b[0m\u001b[0;34m\u001b[0m\u001b[0;34m\u001b[0m\u001b[0;34m\u001b[0m\u001b[0m\n",
            "\u001b[0;31mNameError\u001b[0m: name 'models' is not defined"
          ]
        }
      ]
    },
    {
      "cell_type": "code",
      "metadata": {
        "id": "L5qLP3gaNnbX",
        "colab_type": "code",
        "colab": {}
      },
      "source": [
        "df_train_copy_1.to_csv('pred_on_train.csv')"
      ],
      "execution_count": 0,
      "outputs": []
    },
    {
      "cell_type": "code",
      "metadata": {
        "id": "grdWWqFfNnbZ",
        "colab_type": "code",
        "colab": {}
      },
      "source": [
        "\n",
        "\n",
        "import torch.nn.functional as F\n",
        "import torch.nn as nn\n",
        "\n",
        "\n",
        "class Net_Resnet(nn.Module):\n",
        "    def __init__(self):\n",
        "        super(Net_Resnet,self).__init__()\n",
        "        self.fc1=nn.Conv1d(1,256,kernel_size=5,bias=True)\n",
        "        self.bn1=nn.BatchNorm1d(256)\n",
        "        #self.r=nn.ReLU()\n",
        "        self.mp1=nn.MaxPool1d(kernel_size=5)\n",
        "        self.conv2=nn.Conv1d(256,512,kernel_size=5,bias=True)\n",
        "        self.bn2=nn.BatchNorm1d(512)\n",
        "        self.conv3=nn.Conv1d(512,1024,kernel_size=5,bias=True)\n",
        "        self.bn3=nn.BatchNorm1d(1024)\n",
        "        self.lin1=nn.Linear(1024,512)\n",
        "        self.bn4=nn.BatchNorm1d(512)\n",
        "        self.lin2=nn.Linear(512,256)\n",
        "        self.bn5=nn.BatchNorm1d(256)\n",
        "        self.dp=nn.Dropout(),\n",
        "        self.lin3=nn.Linear(256,1)\n",
        "        self.am=nn.AdaptiveAvgPool1d(1)\n",
        "        self.ap=nn.AdaptiveMaxPool1d(1)\n",
        "        \n",
        "    def forward(self,x):\n",
        "        x=nn.BatchNorm1d(1)(x)\n",
        "        op=self.fc1(x)\n",
        "        op=self.bn1(op)\n",
        "        op=F.relu(op)\n",
        "        op=self.mp1(op)+op\n",
        "        op2=self.conv2(op)\n",
        "        op2=self.bn2(op)\n",
        "        op2=F.relu(op)\n",
        "        op2=self.mp1(op)+op\n",
        "        op3=self.conv3(op)\n",
        "        op3=self.bn3(op)\n",
        "        op3=F.relu(op)\n",
        "        op4=self.am(op1)\n",
        "        #op5=self.ap(op1)\n",
        "        #op4=torch.cat([op4,op5],dim=1)\n",
        "        op4=op4.view(op4.size(0),-1)\n",
        "        op4=self.lin1(op4)\n",
        "        op4=self.bn4(op4)\n",
        "        op4=F.relu(op4)+op4\n",
        "        op4=F.dropout(op4)\n",
        "        op4=self.lin2(op4)\n",
        "        op4=F.relu(op4)\n",
        "        op4=self.bn5(op4)\n",
        "        op4=F.dropout(op4)\n",
        "        op4=self.lin3(op4)\n",
        "        return op4\n",
        "        \n",
        "        \n",
        "        \n",
        "        \n",
        "        \n",
        "        "
      ],
      "execution_count": 0,
      "outputs": []
    },
    {
      "cell_type": "code",
      "metadata": {
        "id": "wWR9yQDeNnb0",
        "colab_type": "code",
        "outputId": "26c70b60-52bb-43ad-b1f8-b7de61de8d81",
        "colab": {
          "base_uri": "https://localhost:8080/",
          "height": 34
        }
      },
      "source": [
        ""
      ],
      "execution_count": 0,
      "outputs": [
        {
          "output_type": "execute_result",
          "data": {
            "text/plain": [
              "__main__.Net_Resnet"
            ]
          },
          "metadata": {
            "tags": []
          },
          "execution_count": 84
        }
      ]
    },
    {
      "cell_type": "code",
      "metadata": {
        "colab_type": "code",
        "id": "tdx-4B1T735W",
        "colab": {}
      },
      "source": [
        "models3=nn.Sequential(\n",
        "   nn.BatchNorm1d(1),\n",
        "   nn.Conv1d(1,256,kernel_size=5,bias=True),\n",
        "   nn.BatchNorm1d(256),\n",
        "   nn.ReLU(),\n",
        "   nn.MaxPool1d(kernel_size=5),\n",
        "    nn.Dropout(.2),\n",
        "   nn.Conv1d(256,512,kernel_size=5,bias=True),\n",
        "   nn.BatchNorm1d(512),\n",
        "   nn.ReLU(),\n",
        "   nn.MaxPool1d(kernel_size=5),\n",
        "    nn.Dropout(.2),\n",
        "   nn.Conv1d(512,1024,kernel_size=5,bias=True),\n",
        "   nn.BatchNorm1d(1024),\n",
        "   nn.ReLU(),\n",
        "    nn.Dropout(.2),\n",
        "   nn.AdaptiveMaxPool1d(1),#concat avg\n",
        "    Lambda(lambda x: x.view(x.size(0),-1)),\n",
        "    nn.Linear(1024,512),\n",
        "    nn.BatchNorm1d(512),\n",
        "    nn.ReLU(),\n",
        "    nn.Dropout(.2),\n",
        "    nn.Linear(512,256),\n",
        "    nn.ReLU(),\n",
        "    nn.BatchNorm1d(256),\n",
        "    nn.Dropout(),\n",
        "    #nn.Linear(256,1),\n",
        "    \n",
        "    nn.Linear(256,128),\n",
        "    nn.ReLU(),\n",
        "    nn.BatchNorm1d(128),\n",
        "    nn.Linear(128,64),\n",
        "    nn.ReLU(),\n",
        "    nn.BatchNorm1d(64),\n",
        "    nn.Linear(64,1))"
      ],
      "execution_count": 0,
      "outputs": []
    },
    {
      "cell_type": "code",
      "metadata": {
        "id": "9CpIPEoY8WCz",
        "colab_type": "code",
        "colab": {}
      },
      "source": [
        "# loss_func = torch.nn.MSELoss()\n",
        "# optimizer = torch.optim.Adam(models.parameters(), lr=1e-5)\n",
        "bs=64\n",
        "def get_data(train_ds, valid_ds, bs):\n",
        "    return (\n",
        "        DataLoader(train_ds, batch_size=bs, shuffle=True),\n",
        "        DataLoader(valid_ds, batch_size=bs ),\n",
        "    )\n",
        "def loss_batch(models, loss_func, xb, yb, opt=None):\n",
        "    xb.to(dev)\n",
        "    yb.to(dev)\n",
        "    y_pred=models(xb)\n",
        "    y_pred=preprocess(y_pred)\n",
        "    loss = loss_func(y_pred, yb)\n",
        "   # print('pred: ',y_pred,'y :',yb,'loss',loss)\n",
        "    if opt is not None:\n",
        "        opt.zero_grad()\n",
        "        loss.backward()\n",
        "        opt.step() \n",
        "    return loss.item(), len(xb)\n",
        "  \n",
        "def fit(epochs, models, loss_func, opt, train_dl, valid_dl):\n",
        "    for epoch in range(epochs):\n",
        "\n",
        "\n",
        "        models.cuda()\n",
        "        models=models.train()\n",
        "        for xb, yb in train_dl:\n",
        "          x=xb.to(dev)\n",
        "          y=yb.to(dev)\n",
        "          bl,s=loss_batch(models.to(dev), loss_func, x, y, opt)\n",
        "            \n",
        "\n",
        "        models=models.eval()\n",
        "        with torch.no_grad():\n",
        "            losses=[]\n",
        "            nums=[]\n",
        "            for xb, yb in valid_dl:\n",
        "              x=xb.to(dev)\n",
        "              y=yb.to(dev)\n",
        "              losses_1, nums_1 = loss_batch(models, loss_func, x, y)\n",
        "              losses.append(losses_1)\n",
        "              nums.append(nums_1)\n",
        "              \n",
        "\n",
        "            #losses, nums = zip(*[loss_batch(models, loss_func, xb, yb) for xb, yb in valid_dl])\n",
        "            \n",
        "        val_loss = np.sum(np.multiply(losses, nums)) / np.sum(nums)\n",
        "\n",
        "        print('loss:',epoch,bl,val_loss )\n"
      ],
      "execution_count": 0,
      "outputs": []
    },
    {
      "cell_type": "code",
      "metadata": {
        "id": "TSsF-wFnNnb6",
        "colab_type": "code",
        "outputId": "9cb7ea88-4682-4539-f326-e2a45d918980",
        "colab": {
          "base_uri": "https://localhost:8080/",
          "height": 416
        }
      },
      "source": [
        "train_dl,valid_dl=get_data(train_ds, valid_ds, bs)\n",
        "models3.to(dev)\n",
        "optimizer = torch.optim.Adam(models3.parameters(), lr=1e-3)\n",
        "fit(5, models3, loss_func, optimizer, train_dl, valid_dl)\n",
        "\n",
        "optimizer = torch.optim.Adam(models3.parameters(), lr=1e-4)\n",
        "fit(8, models3, loss_func, optimizer, train_dl, valid_dl)\n",
        "\n",
        "optimizer = torch.optim.Adam(models3.parameters(), lr=1e-5)\n",
        "fit(10, models3, loss_func, optimizer, train_dl, valid_dl)\n"
      ],
      "execution_count": 0,
      "outputs": [
        {
          "output_type": "stream",
          "text": [
            "loss: 0 51.72972869873047 21.932305214465828\n",
            "loss: 1 31.602737426757812 17.554887211126186\n",
            "loss: 2 22.581558227539062 26.790912854081686\n",
            "loss: 3 17.485519409179688 11.521360666140623\n",
            "loss: 4 21.417343139648438 20.160024119638788\n",
            "loss: 0 13.039652824401855 19.67725239629331\n",
            "loss: 1 18.034496307373047 16.380012071829686\n",
            "loss: 2 10.613177299499512 11.646270689042076\n",
            "loss: 3 11.092193603515625 17.855353445484898\n",
            "loss: 4 7.487906455993652 16.703441511208506\n",
            "loss: 5 6.933390140533447 14.21646446159397\n",
            "loss: 6 6.7008843421936035 21.05094574523651\n",
            "loss: 7 6.883625030517578 13.604678601518028\n",
            "loss: 0 9.85671615600586 12.184458316534176\n",
            "loss: 1 8.166848182678223 13.436518152971853\n",
            "loss: 2 7.734708309173584 11.994268631827884\n",
            "loss: 3 7.905764579772949 14.273823550794793\n",
            "loss: 4 8.26514720916748 12.507326086064328\n",
            "loss: 5 7.973119258880615 11.954154084647435\n",
            "loss: 6 11.217812538146973 12.431790481979164\n",
            "loss: 7 11.261299133300781 13.242792026571248\n",
            "loss: 8 8.213129043579102 12.57228602533755\n",
            "loss: 9 13.142935752868652 13.033632713100541\n"
          ],
          "name": "stdout"
        }
      ]
    },
    {
      "cell_type": "code",
      "metadata": {
        "id": "8WDKOHogNnb9",
        "colab_type": "code",
        "colab": {}
      },
      "source": [
        "models4=nn.Sequential(\n",
        "   nn.BatchNorm1d(1),\n",
        "   nn.Conv1d(1,256,kernel_size=5,bias=True),\n",
        "   nn.BatchNorm1d(256),\n",
        "   nn.ReLU(),\n",
        "   nn.MaxPool1d(kernel_size=5),\n",
        "    nn.Dropout(.3),\n",
        "   nn.Conv1d(256,512,kernel_size=5,bias=True),\n",
        "   nn.BatchNorm1d(512),\n",
        "   nn.ReLU(),\n",
        "   nn.MaxPool1d(kernel_size=5),\n",
        "    nn.Dropout(.3),\n",
        "   nn.Conv1d(512,1024,kernel_size=5,bias=True),\n",
        "   nn.BatchNorm1d(1024),\n",
        "   nn.ReLU(),\n",
        "    nn.Dropout(.3),\n",
        "   nn.AdaptiveMaxPool1d(1),#concat avg\n",
        "    Lambda(lambda x: x.view(x.size(0),-1)),\n",
        "    nn.Linear(1024,512),\n",
        "    nn.BatchNorm1d(512),\n",
        "    nn.ReLU(),\n",
        "    nn.Dropout(.3),\n",
        "    nn.Linear(512,256),\n",
        "    nn.ReLU(),\n",
        "    nn.BatchNorm1d(256),\n",
        "    nn.Dropout(),\n",
        "    #nn.Linear(256,1),\n",
        "    \n",
        "    nn.Linear(256,128),\n",
        "    nn.ReLU(),\n",
        "    nn.BatchNorm1d(128),\n",
        "    nn.Linear(128,64),\n",
        "    nn.ReLU(),\n",
        "    nn.BatchNorm1d(64),\n",
        "    nn.Linear(64,1))"
      ],
      "execution_count": 0,
      "outputs": []
    },
    {
      "cell_type": "code",
      "metadata": {
        "id": "I3k_Q-KcNnb_",
        "colab_type": "code",
        "colab": {}
      },
      "source": [
        "# loss_func = torch.nn.MSELoss()\n",
        "# optimizer = torch.optim.Adam(models.parameters(), lr=1e-5)\n",
        "bs=64\n",
        "def get_data(train_ds, valid_ds, bs):\n",
        "    return (\n",
        "        DataLoader(train_ds, batch_size=bs, shuffle=True),\n",
        "        DataLoader(valid_ds, batch_size=bs ),\n",
        "    )\n",
        "def loss_batch(models, loss_func, xb, yb, opt=None):\n",
        "    xb.to(dev)\n",
        "    yb.to(dev)\n",
        "    y_pred=models(xb)\n",
        "    y_pred=preprocess(y_pred)\n",
        "    loss = loss_func(y_pred, yb)\n",
        "   # print('pred: ',y_pred,'y :',yb,'loss',loss)\n",
        "    if opt is not None:\n",
        "        opt.zero_grad()\n",
        "        loss.backward()\n",
        "        opt.step() \n",
        "    return loss.item(), len(xb)\n",
        "  \n",
        "def fit(epochs, models, loss_func, opt, train_dl, valid_dl):\n",
        "    for epoch in range(epochs):\n",
        "\n",
        "\n",
        "        models.cuda()\n",
        "        models=models.train()\n",
        "        for xb, yb in train_dl:\n",
        "          x=xb.to(dev)\n",
        "          y=yb.to(dev)\n",
        "          bl,s=loss_batch(models.to(dev), loss_func, x, y, opt)\n",
        "            \n",
        "\n",
        "        models=models.eval()\n",
        "        with torch.no_grad():\n",
        "            losses=[]\n",
        "            nums=[]\n",
        "            for xb, yb in valid_dl:\n",
        "              x=xb.to(dev)\n",
        "              y=yb.to(dev)\n",
        "              losses_1, nums_1 = loss_batch(models, loss_func, x, y)\n",
        "              losses.append(losses_1)\n",
        "              nums.append(nums_1)\n",
        "              \n",
        "\n",
        "            #losses, nums = zip(*[loss_batch(models, loss_func, xb, yb) for xb, yb in valid_dl])\n",
        "            \n",
        "        val_loss = np.sum(np.multiply(losses, nums)) / np.sum(nums)\n",
        "\n",
        "        print('loss:',epoch,bl,val_loss )\n"
      ],
      "execution_count": 0,
      "outputs": []
    },
    {
      "cell_type": "code",
      "metadata": {
        "id": "Km3zplBhNncD",
        "colab_type": "code",
        "outputId": "d53a55f9-6b41-4b5f-ad69-c0383219efd1",
        "colab": {
          "base_uri": "https://localhost:8080/",
          "height": 416
        }
      },
      "source": [
        "train_dl,valid_dl=get_data(train_ds, valid_ds, bs)\n",
        "models4.to(dev)\n",
        "optimizer = torch.optim.Adam(models4.parameters(), lr=1e-3)\n",
        "fit(5, models4, loss_func, optimizer, train_dl, valid_dl)\n",
        "\n",
        "optimizer = torch.optim.Adam(models4.parameters(), lr=1e-4)\n",
        "fit(8, models4, loss_func, optimizer, train_dl, valid_dl)\n",
        "\n",
        "optimizer = torch.optim.Adam(models4.parameters(), lr=1e-5)\n",
        "fit(10, models4, loss_func, optimizer, train_dl, valid_dl)\n"
      ],
      "execution_count": 0,
      "outputs": [
        {
          "output_type": "stream",
          "text": [
            "loss: 0 48.60853958129883 22.16751938209362\n",
            "loss: 1 40.42605972290039 17.91625677163097\n",
            "loss: 2 23.86737060546875 19.291614403789012\n",
            "loss: 3 20.722795486450195 14.585944923503824\n",
            "loss: 4 20.219369888305664 15.08637025509996\n",
            "loss: 0 15.893720626831055 12.914915396534521\n",
            "loss: 1 11.72498607635498 11.651954845331241\n",
            "loss: 2 13.951017379760742 12.007763661008546\n",
            "loss: 3 20.102005004882812 11.91882430309656\n",
            "loss: 4 21.881540298461914 19.35405328141517\n",
            "loss: 5 11.719096183776855 13.774480114812436\n",
            "loss: 6 18.678892135620117 14.103989701221014\n",
            "loss: 7 11.821447372436523 11.783661703655923\n",
            "loss: 0 11.843772888183594 16.76148133656789\n",
            "loss: 1 12.706628799438477 15.777908173636876\n",
            "loss: 2 11.854844093322754 16.098079180967684\n",
            "loss: 3 12.636103630065918 14.44411037708151\n",
            "loss: 4 13.957880020141602 14.401370065680508\n",
            "loss: 5 7.6250834465026855 15.814554955112166\n",
            "loss: 6 13.022941589355469 14.132905918618906\n",
            "loss: 7 12.526524543762207 15.280075812447018\n",
            "loss: 8 12.570005416870117 14.758630919849676\n",
            "loss: 9 11.599603652954102 16.07815385329491\n"
          ],
          "name": "stdout"
        }
      ]
    },
    {
      "cell_type": "code",
      "metadata": {
        "id": "mObJEV-lNncF",
        "colab_type": "code",
        "outputId": "7be21505-17b9-4154-db18-5e9cb65afec8",
        "colab": {
          "base_uri": "https://localhost:8080/",
          "height": 34
        }
      },
      "source": [
        "print(c)"
      ],
      "execution_count": 0,
      "outputs": [
        {
          "output_type": "stream",
          "text": [
            "<zip object at 0x7f690282d488>\n"
          ],
          "name": "stdout"
        }
      ]
    },
    {
      "cell_type": "code",
      "metadata": {
        "id": "nMNz-r_ZNncG",
        "colab_type": "code",
        "outputId": "f5cf938e-00ea-4c75-e45a-3ec4892abe17",
        "colab": {
          "base_uri": "https://localhost:8080/",
          "height": 104
        }
      },
      "source": [
        "for i in c :\n",
        "  print(i)"
      ],
      "execution_count": 0,
      "outputs": [
        {
          "output_type": "stream",
          "text": [
            "(1, 5)\n",
            "(2, 5)\n",
            "(3, 5)\n",
            "(4, 5)\n",
            "(5, 5)\n"
          ],
          "name": "stdout"
        }
      ]
    },
    {
      "cell_type": "code",
      "metadata": {
        "id": "n9J4akh2NncJ",
        "colab_type": "code",
        "colab": {}
      },
      "source": [
        "\n",
        "\n"
      ],
      "execution_count": 0,
      "outputs": []
    },
    {
      "cell_type": "code",
      "metadata": {
        "id": "gSOYINs5NncL",
        "colab_type": "code",
        "colab": {}
      },
      "source": [
        ""
      ],
      "execution_count": 0,
      "outputs": []
    },
    {
      "cell_type": "code",
      "metadata": {
        "id": "I4UaSji1NncM",
        "colab_type": "code",
        "colab": {}
      },
      "source": [
        ""
      ],
      "execution_count": 0,
      "outputs": []
    }
  ]
}